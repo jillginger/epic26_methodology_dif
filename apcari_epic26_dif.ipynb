{
  "nbformat": 4,
  "nbformat_minor": 0,
  "metadata": {
    "colab": {
      "name": "apcari_epic26_dif.ipynb",
      "provenance": [],
      "collapsed_sections": [],
      "authorship_tag": "ABX9TyMssT7n5V5gTLP7LTk4u/AP",
      "include_colab_link": true
    },
    "kernelspec": {
      "name": "python3",
      "display_name": "Python 3"
    }
  },
  "cells": [
    {
      "cell_type": "markdown",
      "metadata": {
        "id": "view-in-github",
        "colab_type": "text"
      },
      "source": [
        "<a href=\"https://colab.research.google.com/github/jillginger/epic26_methodology_dif/blob/master/apcari_epic26_dif.ipynb\" target=\"_parent\"><img src=\"https://colab.research.google.com/assets/colab-badge.svg\" alt=\"Open In Colab\"/></a>"
      ]
    },
    {
      "cell_type": "markdown",
      "metadata": {
        "id": "K82YAEAAv_ir",
        "colab_type": "text"
      },
      "source": [
        "## 1. Clean dataset\n"
      ]
    },
    {
      "cell_type": "markdown",
      "metadata": {
        "id": "5cNYqXPOwE4O",
        "colab_type": "text"
      },
      "source": [
        "### Attach STATA"
      ]
    },
    {
      "cell_type": "code",
      "metadata": {
        "id": "uon9AKybv3DQ",
        "colab_type": "code",
        "colab": {
          "base_uri": "https://localhost:8080/",
          "height": 35
        },
        "outputId": "50a3a3ee-9e74-4f5b-a373-20f029d09949"
      },
      "source": [
        "pip install ipystata"
      ],
      "execution_count": 18,
      "outputs": [
        {
          "output_type": "stream",
          "text": [
            "Requirement already satisfied: ipystata in /usr/local/lib/python3.6/dist-packages (0.3.8)\n"
          ],
          "name": "stdout"
        }
      ]
    },
    {
      "cell_type": "code",
      "metadata": {
        "id": "f7LOaT55wDJX",
        "colab_type": "code",
        "colab": {
          "base_uri": "https://localhost:8080/",
          "height": 35
        },
        "outputId": "2f9116ff-d1ec-4d47-a2b7-9daa3f48955d"
      },
      "source": [
        "import ipystata\n",
        "from ipystata.config import config_stata\n",
        "config_stata('C:\\Program Files (x86)\\Stata15>\\StataSE-64.exe')"
      ],
      "execution_count": 2,
      "outputs": [
        {
          "output_type": "stream",
          "text": [
            "IPyStata is loaded in batch mode.\n"
          ],
          "name": "stdout"
        }
      ]
    },
    {
      "cell_type": "markdown",
      "metadata": {
        "id": "61pqzCDrwch2",
        "colab_type": "text"
      },
      "source": [
        "### Clean"
      ]
    },
    {
      "cell_type": "markdown",
      "metadata": {
        "id": "zcK8FoycO2kM",
        "colab_type": "text"
      },
      "source": [
        "We used STATA to score EPIC 26 before, so we will import STATA to ipython and score EPIC26 using STATA."
      ]
    },
    {
      "cell_type": "code",
      "metadata": {
        "id": "Xu5G6-_obTVh",
        "colab_type": "code",
        "colab": {
          "base_uri": "https://localhost:8080/",
          "height": 35
        },
        "outputId": "1f6e1ba9-addf-4a2b-8c36-3d624d1772e0"
      },
      "source": [
        "%%stata\n",
        "display \"Hello, I am printed in Stata.\"  "
      ],
      "execution_count": 8,
      "outputs": [
        {
          "output_type": "execute_result",
          "data": {
            "text/plain": [
              "'Failed to open Stata'"
            ]
          },
          "metadata": {
            "tags": []
          },
          "execution_count": 8
        }
      ]
    },
    {
      "cell_type": "code",
      "metadata": {
        "id": "FeJTN--9QV35",
        "colab_type": "code",
        "colab": {
          "base_uri": "https://localhost:8080/",
          "height": 35
        },
        "outputId": "319db9e4-ef44-4119-cdd6-616b4e7cf7b7"
      },
      "source": [
        "%%stata\n",
        "\n",
        "clear all\n",
        "set more off\n",
        "cap log close\n",
        "global logpath `\"C:/Users/jing.jiang1/2019 Lab Work/epic26 methodology apcari/log\"'"
      ],
      "execution_count": 13,
      "outputs": [
        {
          "output_type": "execute_result",
          "data": {
            "text/plain": [
              "'Failed to open Stata'"
            ]
          },
          "metadata": {
            "tags": []
          },
          "execution_count": 13
        }
      ]
    },
    {
      "cell_type": "code",
      "metadata": {
        "id": "y2iL9CbaQG3N",
        "colab_type": "code",
        "colab": {}
      },
      "source": [
        "%%stata\n",
        "\n",
        "global rawpath `\"C:\\Users\\jing.jiang1\\2019 Lab Work\\epic26 methodology apcari\\data raw\"'\n",
        "global cleanpath `\"C:\\Users\\jing.jiang1\\2019 Lab Work\\epic26 methodology apcari\\data clean\"'"
      ],
      "execution_count": 0,
      "outputs": []
    },
    {
      "cell_type": "code",
      "metadata": {
        "id": "1-Dr1Fgdw_qC",
        "colab_type": "code",
        "colab": {
          "base_uri": "https://localhost:8080/",
          "height": 35
        },
        "outputId": "cb7e1d3a-e211-42fa-fb0d-9638cb98d64a"
      },
      "source": [
        "%%stata\n",
        "\n",
        "cd \"$logpath\"\n",
        "*epic26 methodology apcari Clean do file\n",
        "*jing jiang\n",
        "*20200205\n",
        "*Part 1. Create a codebook for demographic\n",
        "*Part 2. Codebook for epic26\n",
        "***********************************\n",
        "*1. Create a codebook for demographics*\n",
        "***********************************\n",
        "\n",
        "log using cdb20200205.log, replace\n",
        "cd \"$rawpath\"\n",
        "use apcari_full,clear\n",
        "\n",
        "bysort internal_id:replace ic_000b= ic_000b[_n-1] if missing(ic_000b)\n",
        "keep if ic_000b==1 //keep consent patients\n",
        "\n",
        "codebook in_*, compact\n",
        "\n",
        "**********************************\n",
        "*2. Codebook for epic26 only \n",
        "**********************************\n",
        "\n",
        "*keep useful vars\n",
        "keep internal_id redcap_event_name ic_* in_* ep_*\n",
        "keep if redcap_event_name==\"baseline_arm_1\" |redcap_event_name==\"12_month_followup_arm_1\"\n",
        "*check ipss variables conducted time\n",
        "bysort internal_id: tab redcap_event_name ep_001 //baseline and every 12 months\n",
        "\n",
        "\n",
        "**********************************\n",
        "*3. Score epic26\n",
        "**********************************\n",
        "\n",
        "gen subgroup=.\n",
        "replace subgroup = 2 if redcap_event_name == \"12_month_followup_arm_1\"\n",
        "\n",
        "*drop patients who did not finish epic26 questionnaire\n",
        "drop if subgroup==2 &ep_001==.\n",
        "bysort internal_id: drop if redcap_event_name[_N]==\"baseline_arm_1\"\n",
        "sort internal_id\n",
        "\n",
        "*score epic26\n",
        "***************************************\n",
        "*EPIC-26 scores using standardized value\n",
        "***************************************\n",
        "*recode the missing values\n",
        "foreach v of varlist ep_002-ep_027{\n",
        "       replace `v'=. if `v' <= -55\n",
        "\t   }\n",
        "\n",
        "*Count item missing data in each subgroup\n",
        "foreach v of varlist ep_002-ep_027{\n",
        "tab `v', missing\n",
        "}\n",
        "{\n",
        "*calculate the missing data rate for each domain\n",
        "foreach v of varlist ep_002-ep_027{\n",
        "gen ms`v'=.\n",
        "replace ms`v'=1 if `v'==.\n",
        "replace ms`v'=0 if `v'!=.\n",
        "}\n",
        "\n",
        "gen msdm1=(msep_002+msep_003+msep_004+msep_005+msep_010)\n",
        "tab msdm1\n",
        "//miss:value=1; nonmiss: value=0 ==># of missing value for each ob is the sum\n",
        "//the overall percentage of missing value is the mean of msdm1 among all obs\n",
        "gen msdm2=(msep_006+msep_007+msep_008+msep_009)\n",
        "tab msdm2\n",
        "\n",
        "gen msdm3=(msep_011+msep_012+msep_013+msep_014+msep_015+msep_016)\n",
        "tab msdm3\n",
        "\n",
        "gen msdm4=(msep_017+msep_018+msep_019+msep_020+msep_021+msep_022)\n",
        "tab msdm4\n",
        "\n",
        "gen msdm5=(msep_023+msep_024+msep_025+msep_026+msep_027)\n",
        "tab msdm5\n",
        "//for every patient, every subgroup, there is a msdmi\n",
        "}\n",
        "\n",
        "*Scoring each domain of EPIC-26\t   \n",
        "forvalues i=1/5{\n",
        "gen ep_score_dm`i' = .\n",
        "}\n",
        "\n",
        "replace ep_score_dm1 = 1/5*(25*(ep_002 -1)+round((ep_003 -1)*33.3)+ ///\n",
        "round(100*(3-ep_004)/3)+25*(4-ep_005)+100-25*(ep_010 -1)) if msdm1< 1\n",
        "sum ep_score_dm1\n",
        "\n",
        "replace ep_score_dm2 = 1/4*(25*(4-ep_006)+25*(4-ep_007)+25*(4-ep_008)+25*(4-ep_009)) ///\n",
        "if msdm2==0\n",
        "sum ep_score_dm2\n",
        "\n",
        "replace ep_score_dm3 = 1/6*(25*(4-ep_011)+25*(4-ep_012)+ 25*(4-ep_013)+ 25*(4-ep_014)+ ///\n",
        "25*(4-ep_015)+ 100-25*(ep_016 -1)) if msdm3< 1.2\n",
        "sum ep_score_dm3\n",
        "\n",
        "replace ep_score_dm4 = 1/6*(25*(ep_017 -1)+ 25*(ep_018 -1)+ round((ep_019 -1)*33.3)+ ///\n",
        "25*(ep_020 -1)+ 25*(ep_021 -1)+ 100-25*(ep_022 -1)) if msdm4<1.2\n",
        "sum ep_score_dm4\n",
        "\n",
        "replace ep_score_dm5 = 1/5*(25*(4-ep_023)+ 25*(4-ep_024)+ 25*(4-ep_025)+ ///\n",
        "25*(4-ep_026)+ 25*(4-ep_027)  ) if msdm5<1\n",
        "sum ep_score_dm5\n",
        "\n",
        "*convert original values to standardized values\t   \n",
        "foreach v of varlist ep_002 ep_017 ep_018 ep_020 ep_021{\n",
        "\n",
        "gen sco`v'=25*(`v' -1)\n",
        "}\n",
        "\n",
        "foreach v of varlist ep_005-ep_009 ep_011-ep_015 ep_023-ep_027{\n",
        "gen sco`v'=25*(4-`v')\n",
        "}\n",
        "\n",
        "foreach v of varlist ep_010 ep_016 ep_022{\n",
        "gen sco`v'=100-25*(`v' -1)\n",
        "}\n",
        "\n",
        "foreach v of varlist ep_003 ep_019{\n",
        "gen sco`v'= round((`v' -1)*33.3)\n",
        "}\n",
        "\n",
        "gen scoep_004= round(100*(3-ep_004)/3)\n",
        "\n",
        "\n",
        "cd \"$cleanpath\"\n",
        "save epic26_clean.dta,replace\t \n",
        "log close\n",
        "outsheet using datacleaned.xls,replace nol"
      ],
      "execution_count": 8,
      "outputs": [
        {
          "output_type": "execute_result",
          "data": {
            "text/plain": [
              "'Failed to open Stata'"
            ]
          },
          "metadata": {
            "tags": []
          },
          "execution_count": 8
        }
      ]
    },
    {
      "cell_type": "markdown",
      "metadata": {
        "id": "r0W4O7tMPvgB",
        "colab_type": "text"
      },
      "source": [
        "If failed to open STATA in iPython, one can copy the code from the cell above and run it as a STATA do file."
      ]
    },
    {
      "cell_type": "markdown",
      "metadata": {
        "id": "1kH6iMkXwH3j",
        "colab_type": "text"
      },
      "source": [
        "## 2. Differential Item Functioning (R)"
      ]
    },
    {
      "cell_type": "markdown",
      "metadata": {
        "id": "FagK1oRVOG8P",
        "colab_type": "text"
      },
      "source": [
        "Reference:\n"
      ]
    },
    {
      "cell_type": "markdown",
      "metadata": {
        "id": "LdK-lY-KOJEk",
        "colab_type": "text"
      },
      "source": [
        "Method 1: \n",
        "According to the literature above, we will assess DIF across: cancer type, age group, body weight status, comorbidity...\n",
        "\n",
        "Method 2:\n",
        "A series of comparison models was formed by freeing one item at a time and testing for DIF by examining the respective changes in /square(G) with regard to a critical chi-square. This method is commonly referred to as the constrained baseline or all other method. The"
      ]
    },
    {
      "cell_type": "markdown",
      "metadata": {
        "id": "E_PUJnjOwOIt",
        "colab_type": "text"
      },
      "source": [
        "### Attach R"
      ]
    },
    {
      "cell_type": "code",
      "metadata": {
        "id": "lqU8Nzm6wNeo",
        "colab_type": "code",
        "colab": {
          "base_uri": "https://localhost:8080/",
          "height": 87
        },
        "outputId": "b672436e-da30-4b3b-f27c-2ee76d9155fd"
      },
      "source": [
        "pip install rpy2"
      ],
      "execution_count": 1,
      "outputs": [
        {
          "output_type": "stream",
          "text": [
            "Requirement already satisfied: rpy2 in /usr/local/lib/python3.6/dist-packages (2.9.5)\n",
            "Requirement already satisfied: six in /usr/local/lib/python3.6/dist-packages (from rpy2) (1.12.0)\n",
            "Requirement already satisfied: jinja2 in /usr/local/lib/python3.6/dist-packages (from rpy2) (2.11.1)\n",
            "Requirement already satisfied: MarkupSafe>=0.23 in /usr/local/lib/python3.6/dist-packages (from jinja2->rpy2) (1.1.1)\n"
          ],
          "name": "stdout"
        }
      ]
    },
    {
      "cell_type": "code",
      "metadata": {
        "id": "RZpmAi1kxIcg",
        "colab_type": "code",
        "colab": {}
      },
      "source": [
        "%load_ext rpy2.ipython"
      ],
      "execution_count": 0,
      "outputs": []
    },
    {
      "cell_type": "code",
      "metadata": {
        "id": "HQCLrukHxMh2",
        "colab_type": "code",
        "colab": {}
      },
      "source": [
        "import rpy2.rinterface"
      ],
      "execution_count": 0,
      "outputs": []
    },
    {
      "cell_type": "code",
      "metadata": {
        "id": "8gm4FjBVyVnL",
        "colab_type": "code",
        "colab": {}
      },
      "source": [
        "%%R -i python_df"
      ],
      "execution_count": 0,
      "outputs": []
    },
    {
      "cell_type": "markdown",
      "metadata": {
        "id": "2jJ7R0-NwaPr",
        "colab_type": "text"
      },
      "source": [
        "### DIF"
      ]
    },
    {
      "cell_type": "code",
      "metadata": {
        "id": "LtDG-25wxAtw",
        "colab_type": "code",
        "colab": {}
      },
      "source": [
        ""
      ],
      "execution_count": 0,
      "outputs": []
    },
    {
      "cell_type": "markdown",
      "metadata": {
        "id": "n_TCNafhwSFc",
        "colab_type": "text"
      },
      "source": [
        "## 3. Export tables"
      ]
    },
    {
      "cell_type": "code",
      "metadata": {
        "id": "5CIoNaPGwYEi",
        "colab_type": "code",
        "colab": {}
      },
      "source": [
        ""
      ],
      "execution_count": 0,
      "outputs": []
    }
  ]
}